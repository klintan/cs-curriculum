{
 "cells": [
  {
   "cell_type": "markdown",
   "id": "c7fd2035-c4f9-4465-b7ba-1fc726ce1531",
   "metadata": {},
   "source": [
    "# AB Testing\n",
    "We're using a purchasing dataset from datacamp to do some AB testing on different segments of customers.\n",
    "\n",
    "\n",
    "There are a lot of segmentation we could do:\n",
    "- Gender, M vs F\n",
    "- Group, A vs B\n",
    "- Country, different countries vs each other.\n",
    "- Device, I vs A\n",
    "\n",
    "We could also think of looking at both the amount spent and the purchases made."
   ]
  },
  {
   "cell_type": "markdown",
   "id": "f597b458-fdc3-4f28-b687-e28ae959c387",
   "metadata": {},
   "source": [
    "1. Load into pandas"
   ]
  },
  {
   "cell_type": "code",
   "execution_count": 3,
   "id": "4ce4aa8f-cf62-4695-921f-1d4a9a145d9c",
   "metadata": {},
   "outputs": [],
   "source": [
    "import pandas as pd"
   ]
  },
  {
   "cell_type": "code",
   "execution_count": 4,
   "id": "aa12a2b4-4a0e-4c5f-911c-a81a09378352",
   "metadata": {},
   "outputs": [],
   "source": [
    "df = pd.read_csv(\"data.csv\")"
   ]
  },
  {
   "cell_type": "code",
   "execution_count": 6,
   "id": "4363c585-1a1a-4236-89dd-1e543334165e",
   "metadata": {},
   "outputs": [
    {
     "data": {
      "text/html": [
       "<div>\n",
       "<style scoped>\n",
       "    .dataframe tbody tr th:only-of-type {\n",
       "        vertical-align: middle;\n",
       "    }\n",
       "\n",
       "    .dataframe tbody tr th {\n",
       "        vertical-align: top;\n",
       "    }\n",
       "\n",
       "    .dataframe thead th {\n",
       "        text-align: right;\n",
       "    }\n",
       "</style>\n",
       "<table border=\"1\" class=\"dataframe\">\n",
       "  <thead>\n",
       "    <tr style=\"text-align: right;\">\n",
       "      <th></th>\n",
       "      <th>uid</th>\n",
       "      <th>country</th>\n",
       "      <th>gender</th>\n",
       "      <th>spent</th>\n",
       "      <th>purchases</th>\n",
       "      <th>date</th>\n",
       "      <th>group</th>\n",
       "      <th>device</th>\n",
       "    </tr>\n",
       "  </thead>\n",
       "  <tbody>\n",
       "    <tr>\n",
       "      <th>0</th>\n",
       "      <td>11115722</td>\n",
       "      <td>MEX</td>\n",
       "      <td>F</td>\n",
       "      <td>1595</td>\n",
       "      <td>5</td>\n",
       "      <td>2016-03-08</td>\n",
       "      <td>GRP B</td>\n",
       "      <td>I</td>\n",
       "    </tr>\n",
       "    <tr>\n",
       "      <th>1</th>\n",
       "      <td>11122053</td>\n",
       "      <td>USA</td>\n",
       "      <td>M</td>\n",
       "      <td>498</td>\n",
       "      <td>2</td>\n",
       "      <td>2017-07-14</td>\n",
       "      <td>GRP B</td>\n",
       "      <td>I</td>\n",
       "    </tr>\n",
       "    <tr>\n",
       "      <th>2</th>\n",
       "      <td>11128688</td>\n",
       "      <td>USA</td>\n",
       "      <td>F</td>\n",
       "      <td>2394</td>\n",
       "      <td>6</td>\n",
       "      <td>2017-09-17</td>\n",
       "      <td>GRP A</td>\n",
       "      <td>I</td>\n",
       "    </tr>\n",
       "    <tr>\n",
       "      <th>3</th>\n",
       "      <td>11130578</td>\n",
       "      <td>USA</td>\n",
       "      <td>F</td>\n",
       "      <td>1197</td>\n",
       "      <td>3</td>\n",
       "      <td>2017-11-30</td>\n",
       "      <td>GRP A</td>\n",
       "      <td>I</td>\n",
       "    </tr>\n",
       "    <tr>\n",
       "      <th>4</th>\n",
       "      <td>11130759</td>\n",
       "      <td>ESP</td>\n",
       "      <td>M</td>\n",
       "      <td>1297</td>\n",
       "      <td>3</td>\n",
       "      <td>2018-01-10</td>\n",
       "      <td>GRP B</td>\n",
       "      <td>A</td>\n",
       "    </tr>\n",
       "    <tr>\n",
       "      <th>5</th>\n",
       "      <td>11131070</td>\n",
       "      <td>USA</td>\n",
       "      <td>M</td>\n",
       "      <td>1796</td>\n",
       "      <td>4</td>\n",
       "      <td>2016-08-08</td>\n",
       "      <td>GRP B</td>\n",
       "      <td>I</td>\n",
       "    </tr>\n",
       "    <tr>\n",
       "      <th>6</th>\n",
       "      <td>11131381</td>\n",
       "      <td>GBR</td>\n",
       "      <td>F</td>\n",
       "      <td>2296</td>\n",
       "      <td>4</td>\n",
       "      <td>2017-05-21</td>\n",
       "      <td>GRP B</td>\n",
       "      <td>A</td>\n",
       "    </tr>\n",
       "    <tr>\n",
       "      <th>7</th>\n",
       "      <td>11131664</td>\n",
       "      <td>TUR</td>\n",
       "      <td>M</td>\n",
       "      <td>2293</td>\n",
       "      <td>7</td>\n",
       "      <td>2017-12-20</td>\n",
       "      <td>GRP B</td>\n",
       "      <td>I</td>\n",
       "    </tr>\n",
       "    <tr>\n",
       "      <th>8</th>\n",
       "      <td>11132813</td>\n",
       "      <td>USA</td>\n",
       "      <td>M</td>\n",
       "      <td>698</td>\n",
       "      <td>2</td>\n",
       "      <td>2017-07-27</td>\n",
       "      <td>GRP A</td>\n",
       "      <td>I</td>\n",
       "    </tr>\n",
       "    <tr>\n",
       "      <th>9</th>\n",
       "      <td>11134390</td>\n",
       "      <td>DEU</td>\n",
       "      <td>F</td>\n",
       "      <td>498</td>\n",
       "      <td>2</td>\n",
       "      <td>2017-11-16</td>\n",
       "      <td>GRP B</td>\n",
       "      <td>I</td>\n",
       "    </tr>\n",
       "  </tbody>\n",
       "</table>\n",
       "</div>"
      ],
      "text/plain": [
       "        uid country gender  spent  purchases        date  group device\n",
       "0  11115722     MEX      F   1595          5  2016-03-08  GRP B      I\n",
       "1  11122053     USA      M    498          2  2017-07-14  GRP B      I\n",
       "2  11128688     USA      F   2394          6  2017-09-17  GRP A      I\n",
       "3  11130578     USA      F   1197          3  2017-11-30  GRP A      I\n",
       "4  11130759     ESP      M   1297          3  2018-01-10  GRP B      A\n",
       "5  11131070     USA      M   1796          4  2016-08-08  GRP B      I\n",
       "6  11131381     GBR      F   2296          4  2017-05-21  GRP B      A\n",
       "7  11131664     TUR      M   2293          7  2017-12-20  GRP B      I\n",
       "8  11132813     USA      M    698          2  2017-07-27  GRP A      I\n",
       "9  11134390     DEU      F    498          2  2017-11-16  GRP B      I"
      ]
     },
     "execution_count": 6,
     "metadata": {},
     "output_type": "execute_result"
    }
   ],
   "source": [
    "df.head(10)"
   ]
  },
  {
   "cell_type": "markdown",
   "id": "3b455a64-2aed-4fcf-b1ef-35c2b88572c5",
   "metadata": {},
   "source": [
    "2. Compare group A and B.\n",
    " \n",
    "Plot the distribution for A and B and describe the groups."
   ]
  },
  {
   "cell_type": "code",
   "execution_count": 26,
   "id": "d03254ce-4a7b-4c44-a7d5-b2451a75be9c",
   "metadata": {},
   "outputs": [],
   "source": [
    "import seaborn as sns\n",
    "from matplotlib import pyplot as plt"
   ]
  },
  {
   "cell_type": "code",
   "execution_count": 27,
   "id": "4454d4d1-36c3-40c3-b85a-e165546aafb5",
   "metadata": {},
   "outputs": [],
   "source": [
    "grp_a = df[df['group'] == \"GRP A\"][\"purchases\"]\n",
    "grp_b = df[df['group'] == \"GRP B\"][\"purchases\"]"
   ]
  },
  {
   "cell_type": "code",
   "execution_count": 28,
   "id": "56e8f3ea-2c71-4c13-92d4-9c6448b6e176",
   "metadata": {},
   "outputs": [
    {
     "data": {
      "image/png": "[encoded data removed]",
      "text/plain": [
       "<Figure size 640x480 with 1 Axes>"
      ]
     },
     "metadata": {},
     "output_type": "display_data"
    }
   ],
   "source": [
    "sns.histplot(grp_a)\n",
    "sns.histplot(grp_b)\n",
    "plt.show()"
   ]
  },
  {
   "cell_type": "code",
   "execution_count": 29,
   "id": "a4aa7c43-e4e6-4643-94b4-8e1aee062c95",
   "metadata": {},
   "outputs": [
    {
     "data": {
      "image/png": "[encoded data removed]",
      "text/plain": [
       "<Figure size 640x480 with 1 Axes>"
      ]
     },
     "metadata": {},
     "output_type": "display_data"
    }
   ],
   "source": [
    "sns.kdeplot(grp_a)\n",
    "sns.kdeplot(grp_b)\n",
    "plt.show()"
   ]
  },
  {
   "cell_type": "markdown",
   "id": "de26c404-03a2-4410-98a8-cfaf36c70b2e",
   "metadata": {},
   "source": [
    "Sample sizes:"
   ]
  },
  {
   "cell_type": "code",
   "execution_count": 31,
   "id": "5294a517-4422-42fc-99fb-8404250b423f",
   "metadata": {},
   "outputs": [
    {
     "data": {
      "text/plain": [
       "23009"
      ]
     },
     "execution_count": 31,
     "metadata": {},
     "output_type": "execute_result"
    }
   ],
   "source": [
    "len(grp_a.index)"
   ]
  },
  {
   "cell_type": "code",
   "execution_count": 32,
   "id": "ec57b8cf-4582-4627-8948-646dd30776be",
   "metadata": {},
   "outputs": [
    {
     "data": {
      "text/plain": [
       "22874"
      ]
     },
     "execution_count": 32,
     "metadata": {},
     "output_type": "execute_result"
    }
   ],
   "source": [
    "len(grp_b.index)"
   ]
  },
  {
   "cell_type": "code",
   "execution_count": 34,
   "id": "cd9366f0-c940-47f8-b9db-7c4b8b0dd83c",
   "metadata": {},
   "outputs": [
    {
     "data": {
      "text/plain": [
       "count    23009.000000\n",
       "mean         4.536355\n",
       "std          3.110742\n",
       "min          1.000000\n",
       "25%          2.000000\n",
       "50%          4.000000\n",
       "75%          6.000000\n",
       "max         25.000000\n",
       "Name: purchases, dtype: float64"
      ]
     },
     "execution_count": 34,
     "metadata": {},
     "output_type": "execute_result"
    }
   ],
   "source": [
    "grp_a.describe()"
   ]
  },
  {
   "cell_type": "code",
   "execution_count": 35,
   "id": "293cf86c-dec6-46eb-b410-fe5a02659fc3",
   "metadata": {},
   "outputs": [
    {
     "data": {
      "text/plain": [
       "count    22874.000000\n",
       "mean         4.552461\n",
       "std          3.094142\n",
       "min          1.000000\n",
       "25%          2.000000\n",
       "50%          4.000000\n",
       "75%          6.000000\n",
       "max         30.000000\n",
       "Name: purchases, dtype: float64"
      ]
     },
     "execution_count": 35,
     "metadata": {},
     "output_type": "execute_result"
    }
   ],
   "source": [
    "grp_b.describe()"
   ]
  },
  {
   "cell_type": "markdown",
   "id": "71eb6a9d-37b0-4a1c-9616-40d42f1741e6",
   "metadata": {},
   "source": [
    "3. Do a Students T-test for determining if the null H0 hypothesis of Group A has same purchases as Group B, alternate HA hypothesis that Group B has more purchases than group A.\n"
   ]
  },
  {
   "cell_type": "code",
   "execution_count": 36,
   "id": "f760364b-924a-4302-80aa-0fe3b62a3d5e",
   "metadata": {},
   "outputs": [],
   "source": [
    "import statsmodels.api as sm"
   ]
  },
  {
   "cell_type": "code",
   "execution_count": 39,
   "id": "4c9dd37d-0973-4a7c-b8d6-1920c8790483",
   "metadata": {},
   "outputs": [],
   "source": [
    "t_value, p_value, _ = sm.stats.ttest_ind(grp_a, grp_b, alternative=\"larger\")"
   ]
  },
  {
   "cell_type": "markdown",
   "id": "74f6d78d-08e9-4e1b-997a-9fca4b9d9493",
   "metadata": {},
   "source": [
    "4. Check the decision threshold"
   ]
  },
  {
   "cell_type": "code",
   "execution_count": 41,
   "id": "132cd63f-cd1f-47a4-b050-336b3942b3f3",
   "metadata": {},
   "outputs": [
    {
     "name": "stdout",
     "output_type": "stream",
     "text": [
      "Failed to reject null hypothesis: No significant difference in purchases between groups.\n"
     ]
    }
   ],
   "source": [
    "alpha = 0.05\n",
    "if p_value < alpha:\n",
    "    print(\"Reject null hypothesis: Group A has significantly more purchases than Group B.\")\n",
    "else:\n",
    "    print(\"Failed to reject null hypothesis: No significant difference in purchases between groups.\")"
   ]
  },
  {
   "cell_type": "markdown",
   "id": "e88e97c6-f396-4b5f-8d5d-ce715948659f",
   "metadata": {},
   "source": [
    "## Loop through and check all customer segments to see if any is larger"
   ]
  },
  {
   "cell_type": "code",
   "execution_count": 42,
   "id": "c26f6c4e-76ee-4a18-85fd-03a888e9408b",
   "metadata": {},
   "outputs": [
    {
     "data": {
      "text/plain": [
       "Index(['uid', 'country', 'gender', 'spent', 'purchases', 'date', 'group',\n",
       "       'device'],\n",
       "      dtype='object')"
      ]
     },
     "execution_count": 42,
     "metadata": {},
     "output_type": "execute_result"
    }
   ],
   "source": [
    "df.columns"
   ]
  },
  {
   "cell_type": "code",
   "execution_count": 48,
   "id": "d9d12eab-55a3-43b0-9ba0-ca659f2a36f9",
   "metadata": {},
   "outputs": [
    {
     "name": "stdout",
     "output_type": "stream",
     "text": [
      "P-value: 0.11432915969641196, Failed to reject null hypothesis: No significant difference in purchases between groups.\n",
      "P-value: 0.7108921346860773, Failed to reject null hypothesis: No significant difference in purchases between groups.\n",
      "P-value: 0.5622343238303769, Failed to reject null hypothesis: No significant difference in purchases between groups.\n"
     ]
    }
   ],
   "source": [
    "for segment in [\"country\", \"gender\", \"group\", \"device\"]:\n",
    "    segments = df.groupby(segment)\n",
    "    if len(segments) == 2:\n",
    "        data1, data2 = [group['purchases'] for name, group in segments]  # Extract purchases data\n",
    "        t_value, p_value, _ = sm.stats.ttest_ind(data1, data2, alternative=\"larger\")\n",
    "        alpha = 0.05\n",
    "        if p_value < alpha:\n",
    "            print(f\"P-value: {p_value}, Reject null hypothesis: Group A has significantly more purchases than Group B.\")\n",
    "        else:\n",
    "            print(f\"P-value: {p_value}, Failed to reject null hypothesis: No significant difference in purchases between groups.\")"
   ]
  },
  {
   "cell_type": "code",
   "execution_count": null,
   "id": "ae448e1b-666d-4033-af89-43bd4ada7474",
   "metadata": {},
   "outputs": [],
   "source": []
  }
 ],
 "metadata": {
  "kernelspec": {
   "display_name": "Python 3 (ipykernel)",
   "language": "python",
   "name": "python3"
  },
  "language_info": {
   "codemirror_mode": {
    "name": "ipython",
    "version": 3
   },
   "file_extension": ".py",
   "mimetype": "text/x-python",
   "name": "python",
   "nbconvert_exporter": "python",
   "pygments_lexer": "ipython3",
   "version": "3.11.7"
  }
 },
 "nbformat": 4,
 "nbformat_minor": 5
}
